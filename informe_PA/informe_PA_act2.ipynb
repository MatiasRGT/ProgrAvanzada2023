{
 "cells": [
  {
   "cell_type": "markdown",
   "id": "5d635ec7-557f-4b3f-880b-12b24cbf9b23",
   "metadata": {},
   "source": [
    "# Informe Programacion Avanazada - Actividad Docker/PySpark"
   ]
  },
  {
   "cell_type": "markdown",
   "id": "73969f7e-0a97-4761-8b77-aaff5d7a95e1",
   "metadata": {},
   "source": [
    "En esta actividad se va a usar Docker para crear un container con las imagenes de Pyspark Y Jupyter Notebook para hacer un estudio sobre un data scrap de tweets de la plataforma actualmente conocida como 'X', Anteriormente conocida como Twitter.\n",
    "\n",
    "- - -"
   ]
  },
  {
   "cell_type": "markdown",
   "id": "ea779122-9ad7-4a4b-b369-80214f26439b",
   "metadata": {},
   "source": [
    "# Instalacion y Configuracion"
   ]
  },
  {
   "cell_type": "markdown",
   "id": "fbf71a0e-7bf0-45a6-ba80-cfb2e21ec8d4",
   "metadata": {},
   "source": [
    "ToDo: Explicar instalacion y conf de Dockers\n",
    "\n",
    "- - -"
   ]
  },
  {
   "cell_type": "markdown",
   "id": "aaf7d8a0-e095-4a64-96cd-63a833b6b26b",
   "metadata": {},
   "source": [
    "# Creacion de Notebook y Manejo de Archivos Entre Host y Container"
   ]
  },
  {
   "cell_type": "markdown",
   "id": "4b1abf33-cc03-48e0-9783-ef832926f8dd",
   "metadata": {},
   "source": [
    "Todo:<br>\n",
    " * Mostrar como se levanta con `$ Docker compose up`  <br>\n",
    " * como se obtiene <b>token</b> para Jupyter Notebook <br>\n",
    " * Mostrar como se mueven archivos entre Host y Container con `$ Docker cp root root`\n",
    "\n",
    "  - - -"
   ]
  },
  {
   "cell_type": "markdown",
   "id": "4cd0ceef-1726-4b93-abc9-564b26c53968",
   "metadata": {},
   "source": [
    "# Importar .CSV en PySpark"
   ]
  },
  {
   "cell_type": "markdown",
   "id": "619ac02e-6026-40d2-8014-f6cb8ab89c2a",
   "metadata": {},
   "source": [
    "Importar imagen\n",
    "\n",
    "- - -"
   ]
  },
  {
   "cell_type": "markdown",
   "id": "68cb65ed-78dc-4045-a8d4-56f2d09bf3b0",
   "metadata": {},
   "source": [
    "embarked - Port of Embarkation (C = Cherbourg; Q = Queenstown; S = Southampton)\n",
    "\n",
    "sibsp - Number of Siblings/Spouses Aboard\n",
    "parch - Number of Parents/Children Aboard"
   ]
  },
  {
   "cell_type": "markdown",
   "id": "740f2411-d590-47f6-9eb9-0ce691c66042",
   "metadata": {},
   "source": [
    "# Hacer Correlation Matrix"
   ]
  },
  {
   "cell_type": "markdown",
   "id": "a5281a08-7dbb-43e5-9813-1bbe857f4b84",
   "metadata": {},
   "source": [
    "Propuesta, La clase tiene mayor correlacion de supervivencia que cualquier otro dato de los pasageros:\n",
    "\n",
    "Correlation Matrix entre Surpervivencia y otros 3 datos.\n",
    "\n",
    "ver cual parece tener mayor relacion. y com probar asi la propeusta es verdadera.\n",
    "\n",
    "Hacer lo mismo para Puerto de Embarque y comprobar si la distribucion es pareja o no. Si no lo es comprobar si el puerto de embarque con mayor indice de supervivencia es tambien el que tiene mayor incide de 1ra clase. en caso de que la respuesta sea NO: explicar como puede haber correlaciones falsas."
   ]
  },
  {
   "cell_type": "code",
   "execution_count": 9,
   "id": "e50eefb4-b085-4629-b5ad-1a9b08ff996a",
   "metadata": {},
   "outputs": [
    {
     "name": "stdout",
     "output_type": "stream",
     "text": [
      "/home/jovyan/work\n"
     ]
    }
   ],
   "source": [
    "! pwd"
   ]
  }
 ],
 "metadata": {
  "kernelspec": {
   "display_name": "Python 3 (ipykernel)",
   "language": "python",
   "name": "python3"
  },
  "language_info": {
   "codemirror_mode": {
    "name": "ipython",
    "version": 3
   },
   "file_extension": ".py",
   "mimetype": "text/x-python",
   "name": "python",
   "nbconvert_exporter": "python",
   "pygments_lexer": "ipython3",
   "version": "3.11.6"
  }
 },
 "nbformat": 4,
 "nbformat_minor": 5
}
