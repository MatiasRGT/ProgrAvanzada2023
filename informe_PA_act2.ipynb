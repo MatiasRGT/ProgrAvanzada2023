{
 "cells": [
  {
   "cell_type": "markdown",
   "id": "ea6dfcb6-b8d8-44f8-9d11-8ca1ff6704b7",
   "metadata": {},
   "source": [
    "# Informe Programación Avanazada - Actividad Laboratorio 2 - Docker/PySpark."
   ]
  },
  {
   "cell_type": "markdown",
   "id": "9a22f8a2-d9c6-4fe7-a08f-9ef044b6a6b9",
   "metadata": {},
   "source": [
    "En esta actividad se va a usar Docker para crear un container con las imagenes de PySpark y Jupyter Notebook para hacer un estudio sobre un dataset de pasajeros del R.M.S. Titanic. <br>\n",
    "Incluye datos como Edad, Género, Clase de viaje, Sobrevivencia. Tambien incluye otros datos como el ID, Numero de Ticket, Cantidad de Familiares, Puerto de embarque. Estos Campos no se van a usar porque no son relevantes para esta investigación.\n",
    "\n",
    "Se plantea una Pregunta de Investigación, Cual es el perfil de la persona con mas posibilidades de supervivencia en el evento del Titanic.\n",
    "\n",
    "- - -"
   ]
  },
  {
   "cell_type": "markdown",
   "id": "2f3cbb7c-f7b8-4b03-bff3-fac29bef3979",
   "metadata": {},
   "source": [
    "# 1.- instalación y Configuración."
   ]
  },
  {
   "cell_type": "markdown",
   "id": "11199ca5-659c-44ee-bf0c-c85e2f858f41",
   "metadata": {},
   "source": [
    "Primero se descarga Docker Desktop del sitio oficial https://www.docker.com/products/docker-desktop/.  \n",
    "\n",
    "Una vez terminada la instalacion, Se crea un archivo '.yml' llamado 'docker-compose', Se puede llamar de otra forma pero eso hace necesario especificar el nombre en el despliegue.\n",
    "\n",
    "En el archivo Docker-Compose hay que especificar las imagenes y puertos que se van a utilizar para el trabajo, En este caso Spark y Jupyter. El paso mas importante de la creacion del archivo docker-compose\n",
    "es usar 'volumes' para obtener persistencia de informacion dentro del container. <br>\n",
    "En este caso volumes resulta de la siguiente manera:\n",
    "```\n",
    "volumes:\n",
    "      - E:\\Programacion_Avanzada_ULS\\PA_ActividadDockerSpark:/home/jovyan/work\n",
    "```\n",
    "\n",
    "Despues de terminar con la configuracion del archivo 'docker-compose.yml' se hace el despliegue usando <b>'docker compose up'.</b>.<br>\n",
    "La primera vez se demora bastante. En este caso tardo 41 minutos en completar. <br> <br>\n",
    "\n",
    "Usando <b>docker ps</b> se pueden ver los servicios creados que esten corriendo.\n",
    "\n",
    "![Local Image](./informe_PA/docker_ps.png)<br><br>\n",
    "\n",
    "En docker-compose se usan servicios: 2 Trabajadores de Spark, 1 Spark Master para controlar los dos trabajadores, JupyterLab para trabajar con Sparks sobre DataSet.<br>\n",
    "En archivo se especifican los puertos para acceder a Jupyter, :8888, Tambien para acceder a Spark Master :8080, Tambien para que los trabajadores se comuniquen con su Maestro, :7077.\n",
    "\n",
    "- - -"
   ]
  },
  {
   "cell_type": "markdown",
   "id": "e6fdc600-9d17-4eb5-9970-c6a87dfdcac8",
   "metadata": {},
   "source": [
    "## 1.1.- Detener y eliminar todos los servicios."
   ]
  },
  {
   "cell_type": "markdown",
   "id": "18116fab-a17d-41fb-883a-305faca553a5",
   "metadata": {},
   "source": [
    "Para detener y eliminar los servicios utilizados por docker-compose, Simplemente hay que usar el comando ```$ docker compose down```. <br><br>\n",
    "\n",
    "### Adelanto al final de la actividad.\n",
    "\n",
    "Una vez terminado los calculos y anilisis necesarios para la actividad, Hay que eliminar los servicios. Actualmente hay varios servicios ejecutandose como se muestra en la ultima imagen del item anterior.<br>\n",
    "Tambien como se reporta en la aplicacion de Docker desktop.<br>\n",
    "\n",
    "![Local Image](./informe_PA/docker_desktop.png)<br><br>\n",
    "\n",
    "Para terminar con la actividad se usa ```$ docker compose down```. \n",
    "![Local Image](./informe_PA/docker_down.png)<br><br>\n",
    "\n",
    "Luego de este ultimo paso, La actividad esta completada.<br>\n",
    "![Local Image](./informe_PA/docker_desktop_vacio.png)<br><br><br><br>\n",
    "\n",
    "### Volviendo al proceso cronológico: <br>\n",
    "\n",
    "- - -"
   ]
  },
  {
   "cell_type": "markdown",
   "id": "3609fb0e-aafa-42d3-8440-e56660b4b44a",
   "metadata": {
    "jp-MarkdownHeadingCollapsed": true
   },
   "source": [
    "# 2.- Creación de Notebook y Manejo de Archivos Entre Host y Container."
   ]
  },
  {
   "cell_type": "markdown",
   "id": "222e3111-6c9b-4f97-8813-e34089c290bc",
   "metadata": {},
   "source": [
    "   Ingresando a <b>'http://localhost:8888'</b>, Que fue el puerto especificado en docker-compose, Se puede entrar a JupyterLab.<br>\n",
    "   Ingresando a <b>'http://localhost:8080'</b>, Que fue el puerto especificado en docker-compose, Se puede entrar a Spark Master Web UI.\n",
    "\n",
    "![Local Image](./informe_PA/3.png)<br>\n",
    "![Local Image](./informe_PA/4.png)<br>\n",
    "\n",
    "<br><br><br>\n",
    "Para poder acceder a Jupyter Lab hay que usar un Tocken que se obtiene usando <b>'docker logs jupyter'</b><br>\n",
    "![Local Image](./informe_PA/7.png)<br>\n",
    "![Local Image](./informe_PA/8.png)<br><br>\n",
    "\n",
    "Una vez dentro, Se puede usar Jupyter Lab normalmente.<br><br>\n",
    "\n",
    "Desde aqui volumes de Docker se encarga de manejar los archivos.\n",
    "\n",
    "En caso de no usar Volumes, Para copiar archivos entre Host y Container y puede usar <b>'Docker cp root_S root_D'</b><br>\n",
    "![Local Image](./informe_PA/15.png)<br>\n",
    "\n",
    "\n",
    "  - - -"
   ]
  },
  {
   "cell_type": "markdown",
   "id": "14f20b0b-c782-4aa4-8e6f-a7193aa47af0",
   "metadata": {
    "jp-MarkdownHeadingCollapsed": true
   },
   "source": [
    "# 3.- Calculos."
   ]
  },
  {
   "cell_type": "markdown",
   "id": "50f2c56b-8fe6-4d8b-86d0-3ab1e68bc34e",
   "metadata": {},
   "source": [
    "Con los resultados de los calculos hechos sobre el DataSet se espera poder descubrir el perfil de una persona con alta esperanza de supervivencia.<br>\n",
    "Los resultados que se usan en este item tienen de los calculos hechos en el Notebook de calculos de la Actividad. Llamado 'PA_Spark_Act.ipynb'"
   ]
  },
  {
   "cell_type": "markdown",
   "id": "ce0a37e7-2d2a-4059-a0b3-38e098939f74",
   "metadata": {},
   "source": [
    "##  3.1.- Se observa la Edad de los pasajeros."
   ]
  },
  {
   "cell_type": "markdown",
   "id": "80378186-e0dd-4d3e-b77c-4f304b058c6c",
   "metadata": {},
   "source": [
    "Edad promedio de supervivientes y fallecidos.<br>\n",
    "\n",
    "```\n",
    "+--------+------------------+\n",
    "|Survived|      averageValue|\n",
    "+--------+------------------+\n",
    "|       1|28.343689655172415|\n",
    "|       0| 30.62617924528302|\n",
    "+--------+------------------+\n",
    "\n",
    "Survived: 1 Sobrevive, 0 No Sobrevive\n",
    "```\n",
    "La edad promedio es casi la misma. Por lo que no se va a usar como una variable en el perfil que se está buscando.\n",
    "- - -"
   ]
  },
  {
   "cell_type": "markdown",
   "id": "444581e9-aaa0-43a8-ae5e-2ffb2fad8ede",
   "metadata": {},
   "source": [
    "## 3.2.- Se observa Género de los pasajeros."
   ]
  },
  {
   "cell_type": "markdown",
   "id": "6e5a3c99-4068-4232-886f-e9d90699adb9",
   "metadata": {
    "editable": true,
    "slideshow": {
     "slide_type": ""
    },
    "tags": []
   },
   "source": [
    "Cantidad de pasajeros fallecidos Hombre<sub>(*Male*)</sub> y Mujer<sub>(*Female*)</sub>\n",
    "\n",
    "```\n",
    "Cantidad de fallecidos por genero\n",
    "+------+-----+\n",
    "|   Sex|Count|\n",
    "+------+-----+\n",
    "|female|   81|\n",
    "|  male|  468|\n",
    "+------+-----+\n",
    "```\n",
    "\n",
    "Segun los resultados la cantidad total de victimas *Hombre* es mucho mayor, Pero para hacer una comparacion real hay que calcular el porcentaje de supervivencia relativo al Género.<br>\n",
    "Para eso se necesita como dato extra la cantidad *Total* de pasajeros *Hombre* y *Mujer*. A continuacion se obtiene la cantidad total de pasajeros agrupados por Género.\n",
    "\n",
    "```\n",
    "Total pasajeros\n",
    "+------+-----+\n",
    "|   Sex|Count|\n",
    "+------+-----+\n",
    "|  male|  577|\n",
    "|female|  314|\n",
    "+------+-----+\n",
    "```\n",
    "\n",
    "Con esta informacion se puede calcular independientemente por género cual es el porcentaje de supervivencia usando '$Esperanza = (cantidad\\_superviviente \\ / \\ cantidad\\_abordante) * 100$' de cada genéro. <br><br>\n",
    "\n",
    "El resultado de esta operacion es:<br>\n",
    "\n",
    " Esperanza supervivencia de mujeres: $\\% \\ 74.20$<br>\n",
    " Esperanza supervivencia de hombres: $\\% \\ 18.89$<br>\n",
    "\n",
    "- Por lo tanto, Se puede decir que una *Mujer* en el Titanic tenía aproximadamente 4 veces más posibilidades de sobrevivir."
   ]
  },
  {
   "cell_type": "markdown",
   "id": "f156e0cf-c332-4272-8b3f-0e1c402a00f7",
   "metadata": {},
   "source": [
    "## 3.3.- Se observa Clase de pasaje de los pasajeros."
   ]
  },
  {
   "cell_type": "markdown",
   "id": "c5579ab6-8e88-4149-938b-b41448ea6da0",
   "metadata": {},
   "source": [
    "Cantidad de pasajeros fallecidos por cada *Clase*, Upper Class<sub>(1)</sub>,  Middle Class<sub>(2)</sub>,  Lower Class<sub>(3)</sub>. <br>\n",
    "\n",
    "```\n",
    "Cantidad de fallecidos por tipo de Clase\n",
    "+------+-----+\n",
    "|Clase |Count|\n",
    "+------+-----+\n",
    "|     3|  372|\n",
    "|     2|   97|\n",
    "|     1|   80|\n",
    "+------+-----+\n",
    "```\n",
    "\n",
    "Este resultado parece ser buen indicador para predecir la supervivencia de un pasajero.<br>\n",
    "Para calcular la *Esperanza* de cada clase, Se usa la misma formula que se usa en el item de Género. Primero se calcula cantidad total de pasajeros en cada *Clase*\n",
    "\n",
    "```\n",
    "Cantidad total de pasajeros en cada clase\n",
    "+------+-----+\n",
    "|Pclass|Count|\n",
    "+------+-----+\n",
    "|     1|  216|\n",
    "|     2|  184|\n",
    "|     3|  491|\n",
    "+------+-----+\n",
    "```\n",
    "\n",
    "Con ambas tablas se calcula '$Esperanza = (cantidad\\_superviviente \\ / \\ cantidad\\_abordante) * 100$' de cada *Clase* <br>\n",
    "\n",
    "Porcentaje de supervivencia por clase de pasajero:<br>\n",
    "Esperanza Upper Class<sub>(1)</sub>: $\\% \\ 62.96$<br>\n",
    "Esperanza Middle Class<sub>(2)</sub>: $\\% \\ 47.28$<br>\n",
    "Esperanza Lower Class<sub>(3)</sub>: $\\% \\ 11.22$<br>\n",
    "\n",
    "* Se observa que la *Clase* en la que viajaba el pasajero es una variable bastante relevante para poder predecir la supervivencia."
   ]
  },
  {
   "cell_type": "markdown",
   "id": "91ea5211-5245-4365-b757-42eb6b49f3c0",
   "metadata": {},
   "source": [
    "## 3.4.- Visualizando información."
   ]
  },
  {
   "cell_type": "markdown",
   "id": "8e96af4f-fc16-4004-8b16-fba68c7fd65b",
   "metadata": {},
   "source": [
    "En este item se va a visualizar la información obtenida anteriormente usando la librería de Python *Matplotlib*.<br>\n",
    "Se va a ignorar los resultados del item *3.1* porue se declaró irrelevante.\n",
    "\n",
    "### Visualización *item 3.2*<br>\n",
    "![Local Image](./informe_PA/grafico_genero.png)<br><br>\n",
    "\n",
    "### Visualización *item 3.3*<br>\n",
    "![Local Image](./informe_PA/grafico_clase.png)<br>"
   ]
  },
  {
   "cell_type": "markdown",
   "id": "e3482122-3fc6-4644-9ef2-4732fcf812ad",
   "metadata": {
    "jp-MarkdownHeadingCollapsed": true
   },
   "source": [
    "# 4.- Resultados."
   ]
  },
  {
   "cell_type": "markdown",
   "id": "45c0f12d-4dff-4698-8bf6-a20a63f7eebd",
   "metadata": {},
   "source": [
    "## Comprender los patrones de supervivencia en el Titanic.\n",
    "\n",
    "Al profundizar en el conjunto de datos de pasajeros del Titanic, Este análisis tuvo como objetivo descubrir patrones de supervivencia entre diferentes grupos con el objetivo de encontrar el perfil de la persona con mas posiblidades de supervivencia. Los resultados que se obtuvieron proporcionan información valiosa sobre los principales factores que influyeron en las tasas de supervivencia.\n",
    "\n",
    "#### Género en el escenario de evacuación:<br>\n",
    "El marcado contraste en las tasas de supervivencia entre géneros es sorprendente. Un notable 74% de las mujeres sobrevivió al desastre, lo que subraya la prioridad de las mujeres durante los esfuerzos de evacuación. Por el contrario, sólo el 19% de los hombres sobrevivió, Lo que destaca las difíciles circunstancias a las que se enfrentaron la noche de 14 de abril de 1912 los pasajeros del R.M.S. Titanic.\n",
    "<br>\n",
    "\n",
    "#### Disparidades de clase:<br>\n",
    "Las distinciones de clases desempeñaron un papel importante en los resultados de supervivencia. La \"clase alta\" exhibió la tasa de supervivencia más alta con un 67,8%, lo que posiblemente refleja un trato preferencial o la proximidad a los botes salvavidas, Ya que sus estancias estaban en la superficie de la nave, mientras que las de las otras Clases estaban en los pisos inferiores.<br> La \"clase media\" y la \"clase baja\" experimentaron tasas de supervivencia más bajas, del 17,7% y el 14,6%, respectivamente.\n",
    "<br>\n",
    "\n",
    "#### Edad:<br>\n",
    "Aunque no es tan pronunciada como las disparidades de género y clase, la ligera diferencia en la edad promedio entre quienes sobrevivieron (28 años) y quienes fallecieron (30 años) sugiere una relación matizada entre edad y supervivencia.<br><br> Sin embargo una investigación más profunda sobre los datos historicos indica que el Dataset no es muy fidedigno en el campo de la *edad*, Estudios más completos indican un gran índice  de supervivencia en los niños y niñas de Segunda y Primera clase. \n",
    "    Dado que esta informacion no se dedujo del estudio del dataset utilizado en el analisis de efectuado en la actividad, No se va a usar en la conclusión final de este informe.\n",
    "<br>\n",
    "\n",
    "<br><br>En resumen, el desastre del Titanic expuso patrones de supervivencia, en los que el género y la clase surgieron como determinantes críticos.\n",
    "\n",
    "- - -\n",
    "\n",
    "## Conclusión: El perfil de superviviente más probable.\n",
    "\n",
    "* Genero femenino:<br>\n",
    "        Los datos indican claramente que ser mujer aumenta significativamente la probabilidad de supervivencia. Un considerable 74% de las mujeres sobrevivió, lo que demuestra una clara preferencia y priorización durante los esfuerzos de evacuación.\n",
    "\n",
    "* Estado de clase alta:<br>\n",
    "        Los pasajeros de la \"clase alta\" tuvieron la tasa de supervivencia más alta, con un 67,8%. Esto sugiere que las personas con un nivel socioeconómico más alto pueden haber tenido mejor acceso a los botes salvavidas o haber recibido un trato preferencial durante la evacuación.\n",
    "\n",
    "* Edad más joven:<br>\n",
    "        Si bien la diferencia de edad entre los supervivientes (28 años en promedio) y los no supervivientes (30 años en promedio) es relativamente pequeña  ***en este dataset***, la tendencia sugiere una probabilidad ligeramente mayor de supervivencia para los individuos más jóvenes.\n",
    "\n",
    "\n",
    "#### Motivos:\n",
    "Cabinas posiblemente ocupadas cerca de botes salvavidas:\n",
    "        La proximidad a los botes salvavidas, que normalmente estaban ubicados en las cubiertas superiores, Fue definitivamente ventajosa.<br>\n",
    "        Prioridad en la asignación de botes salvavidas para mujeres: Los protocolos marítimos indican una política de priorizar a las mujeres y los niños durante la asignación de los botes salvavidas.<br>\n",
    "\n",
    "- - -\n",
    "\n",
    "Sady Guzman - Universidad de la Serena 2023.<br>\n",
    "programación Avanzada - Laboratorio #2"
   ]
  }
 ],
 "metadata": {
  "kernelspec": {
   "display_name": "Python 3 (ipykernel)",
   "language": "python",
   "name": "python3"
  },
  "language_info": {
   "codemirror_mode": {
    "name": "ipython",
    "version": 3
   },
   "file_extension": ".py",
   "mimetype": "text/x-python",
   "name": "python",
   "nbconvert_exporter": "python",
   "pygments_lexer": "ipython3",
   "version": "3.11.6"
  }
 },
 "nbformat": 4,
 "nbformat_minor": 5
}
